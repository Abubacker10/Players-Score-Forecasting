{
 "cells": [
  {
   "cell_type": "code",
   "execution_count": 2,
   "metadata": {},
   "outputs": [],
   "source": [
    "from selenium import webdriver\n",
    "from selenium.webdriver.chrome.service import Service \n",
    "from selenium.webdriver.common.by import By\n",
    "from selenium.webdriver.common.keys import Keys\n",
    "import streamlit as st\n",
    "import time\n",
    "import pandas as pd\n",
    "import matplotlib.pyplot as plt"
   ]
  },
  {
   "cell_type": "code",
   "execution_count": 3,
   "metadata": {},
   "outputs": [],
   "source": [
    "players = ['V Kohli','SP Narine','R Parag', 'M Pathirana', 'N Pooran', 'YS Chahal', 'S Dube', 'Shashank Singh', 'Mustafizur Rahman', 'AD Russell', 'Shubman Gill', 'Kuldeep Yadav', 'VG Arora', 'NT Tilak Varma', 'MS Dhoni', 'K Rabada', 'N Burger', 'Abdul Samad', 'K Nitish Kumar Reddy', 'LS Livingstone', 'RR Pant', 'Yash Thakur', 'MM Ali', 'KL Rahul', 'SM Curran']"
   ]
  },
  {
   "cell_type": "code",
   "execution_count": null,
   "metadata": {},
   "outputs": [],
   "source": []
  },
  {
   "cell_type": "code",
   "execution_count": 12,
   "metadata": {},
   "outputs": [],
   "source": [
    "def batting(players):\n",
    "    # st.write(players[0])\n",
    "    if players:    \n",
    "        chrome_driver = \"C:\\\\Users\\\\navab\\\\Downloads\\\\chromedriver-win64\\\\chromedriver-win64\\\\chromedriver.exe\"\n",
    "        service = Service(executable_path=chrome_driver)\n",
    "        driver = webdriver.Chrome(service=service)\n",
    "        # driver.get(\"https://google.com\")\n",
    "        batting = pd.DataFrame()\n",
    "        for i in players:\n",
    "            # st.write(i)\n",
    "            driver.get(\"http://www.cricmetric.com/playerstats.py?player=\"+i.replace(' ','+')+\"&role=all&format=TWENTY20&groupby=match&playerStatsFilters=on&start_date=2002-01-01&end_date=2024-04-19&tournament=ipl&start_over=0&end_over=9999&max_innings=1000\")\n",
    "            driver.execute_script(\"window.scrollTo(0, 1080)\")\n",
    "            driver.maximize_window()\n",
    "            time.sleep(5)\n",
    "            \n",
    "            batting_tab = driver.find_element(By.ID,\"TWENTY20Content\")\n",
    "                # st.write(batting_tab.text)\n",
    "                # whole_df = pd.concat(whole_df,pd.DataFrame(pd.DataFrame(batting_tab.text.split('\\n'))[0].str.split()[:-1]),axis=0)\n",
    "                # print(whole_df)\n",
    "            df = list(pd.DataFrame(batting_tab.text.split('\\n'))[0].str.split())\n",
    "                # st.write(df)\n",
    "            df[0]= df[0][:-1]\n",
    "            df =pd.DataFrame(df[:-1])\n",
    "                # st.write(df.shape)\n",
    "            pl = pd.Series((('Player,')+(i+',')*(df.shape[0])).split(',')[:-2])\n",
    "            # print(pl)\n",
    "            df = pd.concat([pl,df],axis=1)\n",
    "            \n",
    "            batting=pd.concat([batting,df],axis=0)\n",
    "            # st.write(batting)\n",
    "                \n",
    "            \n",
    "        bat_stats = batting.copy()\n",
    "        # st.write(bat_stats)\n",
    "        if len(bat_stats):\n",
    "            col = batting.iloc[0,:]\n",
    "            bat_stats.drop(0,inplace=True)\n",
    "            bat_stats.columns = col\n",
    "            bat_stats.to_csv('cric_metric_bat.csv')\n",
    "            return 1"
   ]
  },
  {
   "cell_type": "code",
   "execution_count": 10,
   "metadata": {},
   "outputs": [
    {
     "name": "stdout",
     "output_type": "stream",
     "text": [
      "0       Player\n",
      "1      V Kohli\n",
      "2      V Kohli\n",
      "3      V Kohli\n",
      "4      V Kohli\n",
      "        ...   \n",
      "232    V Kohli\n",
      "233    V Kohli\n",
      "234    V Kohli\n",
      "235    V Kohli\n",
      "236    V Kohli\n",
      "Length: 237, dtype: object\n",
      "0        Player\n",
      "1     SP Narine\n",
      "2     SP Narine\n",
      "3     SP Narine\n",
      "4     SP Narine\n",
      "        ...    \n",
      "94    SP Narine\n",
      "95    SP Narine\n",
      "96    SP Narine\n",
      "97    SP Narine\n",
      "98    SP Narine\n",
      "Length: 99, dtype: object\n"
     ]
    }
   ],
   "source": []
  },
  {
   "cell_type": "code",
   "execution_count": 15,
   "metadata": {},
   "outputs": [],
   "source": [
    "def bowling(players):\n",
    "    chrome_driver = \"C:\\\\Users\\\\navab\\\\Downloads\\\\chromedriver-win64\\\\chromedriver-win64\\\\chromedriver.exe\"\n",
    "    service = Service(executable_path=chrome_driver)\n",
    "    driver = webdriver.Chrome(service=service)\n",
    "    driver.get(\"https://google.com\")\n",
    "    bowling = pd.DataFrame()\n",
    "    if players:\n",
    "        for i in players:\n",
    "            driver.get(\"http://www.cricmetric.com/playerstats.py?player=\"+i.replace(' ','+')+\"&role=all&format=TWENTY20&groupby=match&playerStatsFilters=on&start_date=2002-01-01&end_date=2024-04-20&tournament=ipl&start_over=0&end_over=9999&max_innings=1000\")\n",
    "            bowl = driver.find_element(By.ID,'TWENTY20-Bowling-tab')\n",
    "            bowl.click()\n",
    "            driver.execute_script(\"window.scrollTo(0, 1080)\")\n",
    "            driver.maximize_window()\n",
    "            time.sleep(3)\n",
    "            try:\n",
    "                bowling_tab = driver.find_element(By.ID,\"TWENTY20Content\")\n",
    "                df = list(pd.DataFrame(bowling_tab.text.split('\\n'))[0].str.split())\n",
    "                df[0]= df[0][:-1]\n",
    "                df =pd.DataFrame(df[:-1])\n",
    "                # st.write(df.shape)\n",
    "                pl = pd.Series((('Player,')+(i+',')*(df.shape[0])).split(',')[:-2])\n",
    "                # print(pl)\n",
    "                df = pd.concat([pl,df],axis=1)\n",
    "                bowling=pd.concat([bowling,df],axis=0)\n",
    "                \n",
    "            except:\n",
    "                continue\n",
    "    bowl_stats = bowling.copy()\n",
    "    if len(bowl_stats):\n",
    "        bowl_stats.drop(0,inplace=True)\n",
    "        bowl_stats.columns = bowling.iloc[0,:]\n",
    "        bowl_stats.to_csv('cric_metric_bowl.csv')\n",
    "        return 1"
   ]
  },
  {
   "cell_type": "code",
   "execution_count": null,
   "metadata": {},
   "outputs": [],
   "source": [
    "def player_input(player):\n",
    "    players = player\n",
    "    # st.write(players)\n",
    "    if players:\n",
    "        # a=0\n",
    "        # b=0\n",
    "        a=batting(players)\n",
    "        b=bowling(players)\n",
    "        return a+b\n"
   ]
  }
 ],
 "metadata": {
  "kernelspec": {
   "display_name": ".venv",
   "language": "python",
   "name": "python3"
  },
  "language_info": {
   "codemirror_mode": {
    "name": "ipython",
    "version": 3
   },
   "file_extension": ".py",
   "mimetype": "text/x-python",
   "name": "python",
   "nbconvert_exporter": "python",
   "pygments_lexer": "ipython3",
   "version": "3.11.1"
  }
 },
 "nbformat": 4,
 "nbformat_minor": 2
}
